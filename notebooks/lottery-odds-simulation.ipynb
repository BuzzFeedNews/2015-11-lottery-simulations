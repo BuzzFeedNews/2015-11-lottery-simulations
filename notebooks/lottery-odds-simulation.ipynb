{
 "cells": [
  {
   "cell_type": "markdown",
   "metadata": {},
   "source": [
    "## What are the odds that you'll lose money on the lottery?\n",
    "\n",
    "The code below finds the approximate odds that, after a certain number of tickets, you'll have lost money (overall) on the lottery. The code should be adaptable to any lottery, but the specific examples below focus on two popular lottery games in New York state: Mega Millions and Powerball.\n",
    "\n",
    "The per-play odds come from [the New York Lottery's official website](http://nylottery.ny.gov/wps/portal/Home/Lottery/Home) and Durango Bill's [detailed](http://www.durangobill.com/MegaMillionsOdds.html) [explanations](http://www.durangobill.com/PowerballOdds.html).\n",
    "\n",
    "The jackpots depends on the day you're playing. But, for the sake of this analysis, the particular amount doesn't matter. But just to be safe, the analysis assumes an arbitrarily high amount of $1 billion. \n",
    "\n",
    "Additionally, some prizes may be split among multiple winners. (\"In some cases, the fixed prizes may be paid on a pari-mutuel basis and will be lower than these published amounts,\" [the fine print says](http://nylottery.ny.gov/wps/portal/Home/Lottery/Home/Jackpot+Games/MEGA+MILLIONS/MegaMillions+-+Chances+of+Winning).) So, if anything, the simulated results below may understate the actual odds of becoming long-term net loser."
   ]
  },
  {
   "cell_type": "code",
   "execution_count": 1,
   "metadata": {
    "collapsed": true
   },
   "outputs": [],
   "source": [
    "import random\n",
    "import pandas as pd\n",
    "import matplotlib as mpl\n",
    "import seaborn as sb\n",
    "%matplotlib inline"
   ]
  },
  {
   "cell_type": "markdown",
   "metadata": {},
   "source": [
    "The `Lottery` class takes four parameters:\n",
    "\n",
    "- The lottery name.\n",
    "- The cost of a ticket.\n",
    "- The total number of possible combinations.\n",
    "- A list of tuples — one for each prize level. Each of these tuples takes the form, `(possible_combinations, dollars_won)`."
   ]
  },
  {
   "cell_type": "code",
   "execution_count": 2,
   "metadata": {
    "collapsed": false
   },
   "outputs": [],
   "source": [
    "class LotterySimulation(object):\n",
    "    def __init__(self, lottery, n_tickets, n_players):\n",
    "        self.lottery = lottery\n",
    "        self.n_tickets = n_tickets\n",
    "        self.n_players = n_players\n",
    "        self.winnings = [ sum(lottery.play_x_times(n_tickets))\n",
    "            for _ in range(n_players) ]\n",
    "    \n",
    "    @property\n",
    "    def net(self):\n",
    "        outlay = self.n_tickets * self.lottery.ticket_cost\n",
    "        return [ win - outlay\n",
    "            for win in self.winnings ]\n",
    "    \n",
    "    @property\n",
    "    def net_loss_proportion(self):\n",
    "        return float(sum(n < 0 for n in self.net)) / self.n_players"
   ]
  },
  {
   "cell_type": "code",
   "execution_count": 3,
   "metadata": {
    "collapsed": false
   },
   "outputs": [],
   "source": [
    "class Lottery(object):\n",
    "    def __init__(self, name, ticket_cost, total_combinations, winning_combinations):\n",
    "        self.name = name\n",
    "        self.ticket_cost = ticket_cost\n",
    "        self.total_combinations = total_combinations\n",
    "        self.winning_combinations = winning_combinations\n",
    "        self.cutoffs = self.construct_cutoffs()\n",
    "    \n",
    "    def construct_cutoffs(self):\n",
    "        winning_cutoffs = []\n",
    "        cumulative = 0\n",
    "        for n, winnings in self.winning_combinations:\n",
    "            cumulative += n\n",
    "            winning_cutoffs.append((cumulative, winnings))\n",
    "        return winning_cutoffs\n",
    "    \n",
    "    def get_odds_of_winning_anything(self):\n",
    "        return float(self.cutoffs[-1][0]) / self.total_combinations\n",
    "    \n",
    "    def play_once(self):\n",
    "        rand = random.randint(1, self.total_combinations)\n",
    "        for i, winnings in self.cutoffs:\n",
    "            if rand <= i:\n",
    "                return winnings\n",
    "        return 0\n",
    "    \n",
    "    def play_x_times(self, x):\n",
    "        return [ self.play_once() for n in range(x) ]\n",
    "    \n",
    "    def simulate(self, n_tickets, n_players):\n",
    "        return LotterySimulation(self, n_tickets, n_players)"
   ]
  },
  {
   "cell_type": "markdown",
   "metadata": {},
   "source": [
    "## Mega Millions\n",
    "\n",
    "- [Offical odds](http://nylottery.ny.gov/wps/portal/Home/Lottery/Home/Jackpot+Games/MEGA+MILLIONS/MegaMillions+-+Chances+of+Winning)\n",
    "- [Durango Bill details](http://www.durangobill.com/MegaMillionsOdds.html)"
   ]
  },
  {
   "cell_type": "code",
   "execution_count": 4,
   "metadata": {
    "collapsed": true
   },
   "outputs": [],
   "source": [
    "mega_millions = Lottery(\"Mega Millions\", 1, 258890850, [\n",
    "    (1, 1000000000), # Hypothetical $1 billion jackpot\n",
    "    (14, 1000000), # $1 million\n",
    "    (350, 5000),\n",
    "    (4900, 500),\n",
    "    (24150, 50),\n",
    "    (338100, 5),\n",
    "    (547400, 5),\n",
    "    (4584475, 2),\n",
    "    (12103014, 1)\n",
    "])"
   ]
  },
  {
   "cell_type": "code",
   "execution_count": 5,
   "metadata": {
    "collapsed": false
   },
   "outputs": [
    {
     "name": "stdout",
     "output_type": "stream",
     "text": [
      "On a single Mega Millions ticket, your odds of winning anything is approximately 6.79916%, or 1 in 14.71.\n"
     ]
    }
   ],
   "source": [
    "print(\"On a single Mega Millions ticket, \"\n",
    "      \"your odds of winning anything is \"\n",
    "      \"approximately {0:.5f}%, or 1 in {1:.2f}.\"\\\n",
    "    .format(\n",
    "        mega_millions.get_odds_of_winning_anything() * 100,\n",
    "        1.0 / mega_millions.get_odds_of_winning_anything()\n",
    "    ))"
   ]
  },
  {
   "cell_type": "markdown",
   "metadata": {},
   "source": [
    "### 100,000 player simulations — Mega Millions"
   ]
  },
  {
   "cell_type": "code",
   "execution_count": 6,
   "metadata": {
    "collapsed": false
   },
   "outputs": [
    {
     "name": "stdout",
     "output_type": "stream",
     "text": [
      "Among 100k simulated players who each bought 10 tickets, 99.810% lost money overall.\n",
      "Among 100k simulated players who each bought 50 tickets, 99.396% lost money overall.\n",
      "Among 100k simulated players who each bought 100 tickets, 99.808% lost money overall.\n"
     ]
    }
   ],
   "source": [
    "n_simulations = 1000 * 100\n",
    "for n_tickets in (10, 50, 100):\n",
    "    sim = mega_millions.simulate(n_tickets, n_simulations)\n",
    "    print(\n",
    "        \"Among 100k simulated players who each bought {0} tickets, \"\n",
    "        \"{1:.3f}% lost money overall.\".format(\n",
    "            n_tickets, \n",
    "            sim.net_loss_proportion * 100\n",
    "        )\n",
    "     )"
   ]
  },
  {
   "cell_type": "markdown",
   "metadata": {},
   "source": [
    "## 1 million 50-ticket simulations — Mega Millions"
   ]
  },
  {
   "cell_type": "code",
   "execution_count": 7,
   "metadata": {
    "collapsed": false
   },
   "outputs": [
    {
     "name": "stdout",
     "output_type": "stream",
     "text": [
      "Among 1 million simulated players who each bought 100 tickets, 99.431% lost money overall.\n"
     ]
    }
   ],
   "source": [
    "mm_1_million = mega_millions.simulate(50, 1000 * 1000)\n",
    "print(\n",
    "    \"Among 1 million simulated players who each bought {0} tickets, \"\n",
    "    \"{1:.3f}% lost money overall.\".format(\n",
    "        n_tickets,\n",
    "        mm_1_million.net_loss_proportion * 100.0\n",
    "   )\n",
    ")"
   ]
  },
  {
   "cell_type": "markdown",
   "metadata": {},
   "source": [
    "### How *much* should you expect to lose playing Mega Millions?\n",
    "\n",
    "The code below simulates the net profit/loss of the 1,000,000 simulated players who each bought one $1 Mega Millions ticket per week, for 50 weeks:"
   ]
  },
  {
   "cell_type": "code",
   "execution_count": 8,
   "metadata": {
    "collapsed": false
   },
   "outputs": [],
   "source": [
    "def plot_net(sim):\n",
    "    count = sim.n_tickets\n",
    "    stemmed = pd.Series(sim.net).apply(lambda x: min(count, x))\n",
    "    ax = stemmed.hist(bins=range(-count * sim.lottery.ticket_cost, count+1, 1),\n",
    "        figsize=(12, 6),\n",
    "        normed=True)\n",
    "    ax.set_title(\"Net Profit/Loss After {0} Tickets — {1}\"\\\n",
    "        .format(count, sim.lottery.name), fontsize=18, fontweight=\"bold\")\n",
    "    ax.set_ylabel(\"Percentage of Simulations\", fontsize=14)\n",
    "    ax.set_yticks(list(pd.np.arange(0, ax.get_ylim()[-1] + 0.01, 0.01)))\n",
    "    ax.set_yticklabels([ \"{0:.0f}%\".format(y * 100) \n",
    "        for y in ax.get_yticks() ], fontsize=12)\n",
    "    ax.set_xlim((-count * sim.lottery.ticket_cost, count))\n",
    "    tick_spacing = 10 if (count * sim.lottery.ticket_cost <= 100) else 20\n",
    "    ax.set_xticks(range(-count * sim.lottery.ticket_cost, count+1, tick_spacing))\n",
    "    ax.set_xticklabels([ (\"${0}\" if x >= 0 else \"-${0}\").format(abs(x)) + (\"+\" if x == count else \"\")\n",
    "        for x in ax.get_xticks() ], fontsize=12)\n",
    "    mpl.pyplot.setp(ax.patches[:count * sim.lottery.ticket_cost - 1], facecolor=\"darkred\")\n",
    "    mpl.pyplot.axvline(0, color=\"black\", linestyle=\"dashed\")\n",
    "    return ax"
   ]
  },
  {
   "cell_type": "code",
   "execution_count": 9,
   "metadata": {
    "collapsed": false
   },
   "outputs": [
    {
     "data": {
      "image/png": "[encoded data removed]",
      "text/plain": [
       "<matplotlib.figure.Figure at 0x10aef3f98>"
      ]
     },
     "metadata": {},
     "output_type": "display_data"
    }
   ],
   "source": [
    "plot_net(mm_1_million);"
   ]
  },
  {
   "cell_type": "markdown",
   "metadata": {},
   "source": [
    "## Powerball\n",
    "\n",
    "- [Offical odds](http://nylottery.ny.gov/wps/portal/Home/Lottery/Home/Jackpot+Games/POWERBALL/Powerball+-+Chances+of+Winning)\n",
    "- [Durango Bill details](http://www.durangobill.com/PowerballOdds.html)"
   ]
  },
  {
   "cell_type": "code",
   "execution_count": 10,
   "metadata": {
    "collapsed": false
   },
   "outputs": [],
   "source": [
    "powerball = Lottery(\"Powerball\", 2, 292201338, [\n",
    "    (1, 1000000000),\n",
    "    (25, 1000000),\n",
    "    (320, 50000),\n",
    "    (8000, 100),\n",
    "    (20160, 100),\n",
    "    (504000, 7),\n",
    "    (416640, 7),\n",
    "    (3176880, 4),\n",
    "    (7624512, 4)\n",
    "])"
   ]
  },
  {
   "cell_type": "code",
   "execution_count": 11,
   "metadata": {
    "collapsed": false
   },
   "outputs": [
    {
     "name": "stdout",
     "output_type": "stream",
     "text": [
      "On a single Powerball ticket, your odds of winning anything is approximately 4.02138%, or 1 in 24.87.\n"
     ]
    }
   ],
   "source": [
    "print(\"On a single Powerball ticket, \"\n",
    "      \"your odds of winning anything is \"\n",
    "      \"approximately {0:.5f}%, or 1 in {1:.2f}.\"\\\n",
    "    .format(\n",
    "        powerball.get_odds_of_winning_anything() * 100,\n",
    "        1.0 / powerball.get_odds_of_winning_anything()\n",
    "    ))"
   ]
  },
  {
   "cell_type": "markdown",
   "metadata": {},
   "source": [
    "### 100,000 player simulations — Powerball"
   ]
  },
  {
   "cell_type": "code",
   "execution_count": 12,
   "metadata": {
    "collapsed": false
   },
   "outputs": [
    {
     "name": "stdout",
     "output_type": "stream",
     "text": [
      "Among 100k simulated players who each bought 10 tickets, 99.897% lost money overall.\n",
      "Among 100k simulated players who each bought 50 tickets, 99.516% lost money overall.\n",
      "Among 100k simulated players who each bought 100 tickets, 99.976% lost money overall.\n"
     ]
    }
   ],
   "source": [
    "n_simulations = 1000 * 100\n",
    "for n_tickets in (10, 50, 100):\n",
    "    sim = powerball.simulate(n_tickets, n_simulations)\n",
    "    print(\n",
    "        \"Among 100k simulated players who each bought {0} tickets, \"\n",
    "        \"{1:.3f}% lost money overall.\".format(\n",
    "            n_tickets, \n",
    "            sim.net_loss_proportion * 100\n",
    "        )\n",
    "     )"
   ]
  },
  {
   "cell_type": "code",
   "execution_count": 13,
   "metadata": {
    "collapsed": false
   },
   "outputs": [
    {
     "name": "stdout",
     "output_type": "stream",
     "text": [
      "Among 1 million simulated players who each bought 100 tickets, 99.509% lost money overall.\n"
     ]
    }
   ],
   "source": [
    "pb_1_million = powerball.simulate(50, 1000 * 1000)\n",
    "print(\n",
    "    \"Among 1 million simulated players who each bought {0} tickets, \"\n",
    "    \"{1:.3f}% lost money overall.\".format(\n",
    "        n_tickets,\n",
    "        pb_1_million.net_loss_proportion * 100.0\n",
    "   )\n",
    ")"
   ]
  },
  {
   "cell_type": "markdown",
   "metadata": {},
   "source": [
    "### How *much* should you expect to lose playing Powerball?\n",
    "\n",
    "The code below simulates the net profit/loss of 1,000,000 players who each buy one $2 Powerball ticket per week, for 50 weeks:"
   ]
  },
  {
   "cell_type": "code",
   "execution_count": 14,
   "metadata": {
    "collapsed": false
   },
   "outputs": [
    {
     "data": {
      "image/png": "[encoded data removed]",
      "text/plain": [
       "<matplotlib.figure.Figure at 0x10d4c4358>"
      ]
     },
     "metadata": {},
     "output_type": "display_data"
    }
   ],
   "source": [
    "plot_net(pb_1_million);"
   ]
  },
  {
   "cell_type": "markdown",
   "metadata": {},
   "source": [
    "---\n",
    "\n",
    "---\n",
    "\n",
    "---"
   ]
  }
 ],
 "metadata": {
  "kernelspec": {
   "display_name": "Python 3",
   "language": "python",
   "name": "python3"
  },
  "language_info": {
   "codemirror_mode": {
    "name": "ipython",
    "version": 3
   },
   "file_extension": ".py",
   "mimetype": "text/x-python",
   "name": "python",
   "nbconvert_exporter": "python",
   "pygments_lexer": "ipython3",
   "version": "3.4.3"
  }
 },
 "nbformat": 4,
 "nbformat_minor": 0
}
